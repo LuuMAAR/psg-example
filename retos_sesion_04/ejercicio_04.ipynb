{
 "cells": [
  {
   "cell_type": "markdown",
   "id": "599e127e",
   "metadata": {},
   "source": [
    "# 🏰 **Castillos y Conquistas**\n",
    "\n",
    "**Descripción:**  \n",
    "\"Castillos y Conquistas\" es un juego de estrategia para 2 jugadores ambientado en un mundo de fantasía medieval. Cada jugador controla un reino con su ejército y debe capturar el castillo del enemigo moviendo sus piezas estratégicamente en el tablero. El primero en ocupar el castillo rival gana.\"\n",
    "\n",
    "## Reglas del Juego \"Castillos y Conquistas\"\n",
    "\n",
    "1. **Jugadores:** 2\n",
    "2. **Objetivo:** Llegar al castillo del enemigo (posición inicial del oponente).\n",
    "3. **Tablero:** 5x5 casillas. Cada jugador inicia en lados opuestos.\n",
    "4. **Piezas por jugador:**\n",
    "   - 1 Rey 👑\n",
    "   - 2 Guerreros ⚔️\n",
    "   - 1 Arquero 🏹\n",
    "5. **Movimientos:**\n",
    "   - 👑 Rey: 1 casilla en cualquier dirección\n",
    "   - ⚔️ Guerrero: 1 casilla hacia adelante o lateral\n",
    "   - 🏹 Arquero: 2 casillas en línea recta (no en diagonal)\n",
    "6. **Captura:** Una pieza captura a otra al caer sobre su casilla.\n",
    "7. **Castillo:** Está en la casilla inicial del Rey enemigo.\n",
    "8. **Victoria:** El primer jugador que coloca una de sus piezas en el castillo enemigo, gana.\n",
    "\n",
    "\n",
    "\n",
    "\n"
   ]
  },
  {
   "cell_type": "code",
   "execution_count": 1,
   "id": "2a6ff540",
   "metadata": {},
   "outputs": [
    {
     "name": "stdout",
     "output_type": "stream",
     "text": [
      "     A   B   C   D   E\n",
      "   ---------------------\n",
      " 1 |  |  |  |  |  |\n",
      " 2 |  |  |  |  |  |\n",
      " 3 |  |  |  |  |  |\n",
      " 4 |  |  |  |  |  |\n",
      " 5 |  |  |  |  |  |\n",
      "   ---------------------\n",
      "     A   B   C   D   E\n",
      "\n",
      "Jugador 1 comienza abajo, Jugador 2 comienza arriba.\n"
     ]
    }
   ],
   "source": [
    "print(\"     A   B   C   D   E\")\n",
    "print(\"   ---------------------\")\n",
    "print(\" 1 |  |  |  |  |  |\")\n",
    "print(\" 2 |  |  |  |  |  |\")\n",
    "print(\" 3 |  |  |  |  |  |\")\n",
    "print(\" 4 |  |  |  |  |  |\")\n",
    "print(\" 5 |  |  |  |  |  |\")\n",
    "print(\"   ---------------------\")\n",
    "print(\"     A   B   C   D   E\")\n",
    "print(\"\\nJugador 1 comienza abajo, Jugador 2 comienza arriba.\")\n"
   ]
  },
  {
   "cell_type": "code",
   "execution_count": 2,
   "id": "134a13fc",
   "metadata": {},
   "outputs": [
    {
     "name": "stdout",
     "output_type": "stream",
     "text": [
      "R  ↑   → Rey      (1 casilla en cualquier dirección)\n",
      "G  |   → Guerrero (1 casilla adelante o lateral)\n",
      "A  →   → Arquero  (2 casillas en línea recta)\n",
      "C  █   → Castillo (casilla fija, objetivo a conquistar)\n"
     ]
    }
   ],
   "source": [
    "print(\"R  ↑   → Rey      (1 casilla en cualquier dirección)\")\n",
    "print(\"G  |   → Guerrero (1 casilla adelante o lateral)\")\n",
    "print(\"A  →   → Arquero  (2 casillas en línea recta)\")\n",
    "print(\"C  █   → Castillo (casilla fija, objetivo a conquistar)\")\n"
   ]
  },
  {
   "cell_type": "markdown",
   "id": "80fdaf45",
   "metadata": {},
   "source": [
    "## 🧙‍♂️ Piezas del Juego\n",
    "\n",
    "- 👑 **Rey:** Pieza central del reino. Si es capturado o el castillo es invadido, el jugador pierde. Se mueve 1 casilla en cualquier dirección.\n",
    "- ⚔️ **Guerrero:** Tropas fuertes que avanzan y defienden. Se mueven 1 casilla hacia adelante o lateral.\n",
    "- 🏹 **Arquero:** Rango largo. Se mueve 2 casillas en línea recta. Puede atacar a distancia (en versiones extendidas).\n",
    "- ♖ **Castillo:** No se mueve. Marca el punto de partida del Rey y es el objetivo a conquistar.\n"
   ]
  }
 ],
 "metadata": {
  "kernelspec": {
   "display_name": "Python 3",
   "language": "python",
   "name": "python3"
  },
  "language_info": {
   "codemirror_mode": {
    "name": "ipython",
    "version": 3
   },
   "file_extension": ".py",
   "mimetype": "text/x-python",
   "name": "python",
   "nbconvert_exporter": "python",
   "pygments_lexer": "ipython3",
   "version": "3.13.3"
  }
 },
 "nbformat": 4,
 "nbformat_minor": 5
}

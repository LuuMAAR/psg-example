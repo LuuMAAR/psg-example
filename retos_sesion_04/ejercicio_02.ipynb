{
 "cells": [
  {
   "cell_type": "code",
   "execution_count": 6,
   "id": "5b44bb48",
   "metadata": {},
   "outputs": [
    {
     "name": "stdout",
     "output_type": "stream",
     "text": [
      "  OO  \n",
      " O()O\n",
      "  OO \n",
      "  ||\n",
      "  ||\n"
     ]
    }
   ],
   "source": [
    "print(\"  OO  \")\n",
    "print(\" O()O\")\n",
    "print(\"  OO \")\n",
    "print(\"  ||\")\n",
    "print(\"  ||\")"
   ]
  },
  {
   "cell_type": "markdown",
   "id": "9d935ca4",
   "metadata": {},
   "source": [
    "# Sesión 04\n",
    "- Mi primer notebook\n",
    "- Imprimir árbol\n",
    "- Crear Markdown\n",
    "- Subir a mi repositorio de GitHub"
   ]
  }
 ],
 "metadata": {
  "kernelspec": {
   "display_name": "Python 3",
   "language": "python",
   "name": "python3"
  },
  "language_info": {
   "codemirror_mode": {
    "name": "ipython",
    "version": 3
   },
   "file_extension": ".py",
   "mimetype": "text/x-python",
   "name": "python",
   "nbconvert_exporter": "python",
   "pygments_lexer": "ipython3",
   "version": "3.13.3"
  }
 },
 "nbformat": 4,
 "nbformat_minor": 5
}
